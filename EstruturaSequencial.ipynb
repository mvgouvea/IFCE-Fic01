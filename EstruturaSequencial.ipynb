{
  "nbformat": 4,
  "nbformat_minor": 0,
  "metadata": {
    "colab": {
      "provenance": [],
      "authorship_tag": "ABX9TyOt1CMaEPANnkOfjOkA03G2",
      "include_colab_link": true
    },
    "kernelspec": {
      "name": "python3",
      "display_name": "Python 3"
    },
    "language_info": {
      "name": "python"
    }
  },
  "cells": [
    {
      "cell_type": "markdown",
      "metadata": {
        "id": "view-in-github",
        "colab_type": "text"
      },
      "source": [
        "<a href=\"https://colab.research.google.com/github/mvgouvea/IFCE-Fic01/blob/main/EstruturaSequencial.ipynb\" target=\"_parent\"><img src=\"https://colab.research.google.com/assets/colab-badge.svg\" alt=\"Open In Colab\"/></a>"
      ]
    },
    {
      "cell_type": "markdown",
      "source": [
        "Faça um Programa que mostre a mensagem \"Alo mundo\" na tela."
      ],
      "metadata": {
        "id": "1O_ukR0HwBvN"
      }
    },
    {
      "cell_type": "code",
      "source": [
        "print('Alo mundo')\n",
        "print('Hellow world')"
      ],
      "metadata": {
        "colab": {
          "base_uri": "https://localhost:8080/"
        },
        "id": "rBvQCAM3wPeh",
        "outputId": "9926815e-86cc-47fa-8cb5-bff133c46786"
      },
      "execution_count": 2,
      "outputs": [
        {
          "output_type": "stream",
          "name": "stdout",
          "text": [
            "Alo mundo\n",
            "Hellow world\n"
          ]
        }
      ]
    },
    {
      "cell_type": "markdown",
      "source": [
        "Faça um Programa que peça um número e então mostre a mensagem O número informado foi [número]."
      ],
      "metadata": {
        "id": "axrsYWuZwFbd"
      }
    },
    {
      "cell_type": "code",
      "source": [
        "num = input('Informe um número: ')\n",
        "\n",
        "print('O número infomrado é:',num)"
      ],
      "metadata": {
        "colab": {
          "base_uri": "https://localhost:8080/"
        },
        "id": "zJIA2TNpwO8v",
        "outputId": "cd6547b4-8a56-4e1b-e2f6-b11089ac8d29"
      },
      "execution_count": 4,
      "outputs": [
        {
          "output_type": "stream",
          "name": "stdout",
          "text": [
            "Informe um número: 10\n",
            "O número infomrado é: 10\n"
          ]
        }
      ]
    },
    {
      "cell_type": "markdown",
      "source": [
        "Faça um Programa que peça dois números e imprima a soma."
      ],
      "metadata": {
        "id": "gdjB0kOowFjD"
      }
    },
    {
      "cell_type": "code",
      "source": [
        "num1 = float(input('Informe um número: '))\n",
        "num2 = float(input('Informe um número: '))\n",
        "print('A soma dos números é:',num1+num2)"
      ],
      "metadata": {
        "colab": {
          "base_uri": "https://localhost:8080/"
        },
        "id": "cFMfT86-wObl",
        "outputId": "e8b4aa80-be8f-4404-b611-e620208956ae"
      },
      "execution_count": 5,
      "outputs": [
        {
          "output_type": "stream",
          "name": "stdout",
          "text": [
            "Informe um número:10\n",
            "Informe um número:10\n",
            "A soma dos números é:  20.0\n"
          ]
        }
      ]
    },
    {
      "cell_type": "markdown",
      "source": [
        "Faça um Programa que peça as 4 notas bimestrais e mostre a média."
      ],
      "metadata": {
        "id": "ViS_U0ebwFmX"
      }
    },
    {
      "cell_type": "code",
      "source": [
        "nota1 = float(input('Informe a nota: '))\n",
        "nota2 = float(input('Informe a nota: '))\n",
        "nota3 = float(input('Informe a nota: '))\n",
        "nota4 = float(input('Informe a nota: '))\n",
        "media = (nota1+nota2+nota3+nota4)/4\n",
        "print('A média das notas bimestrais:',media)"
      ],
      "metadata": {
        "colab": {
          "base_uri": "https://localhost:8080/"
        },
        "id": "W6pRhpNHwNYC",
        "outputId": "a6abdb05-617b-420c-cf9e-b06898a6dc98"
      },
      "execution_count": 6,
      "outputs": [
        {
          "output_type": "stream",
          "name": "stdout",
          "text": [
            "Informe a nota: 5\n",
            "Informe a nota: 6\n",
            "Informe a nota: 2\n",
            "Informe a nota: 5\n",
            "A média das notas bimestrais: 4.5\n"
          ]
        }
      ]
    },
    {
      "cell_type": "markdown",
      "source": [
        "Faça um Programa que converta metros para centímetros."
      ],
      "metadata": {
        "id": "j75Hl6NmwFr3"
      }
    },
    {
      "cell_type": "code",
      "source": [
        "mt = float(input('Informe a quantidade de metros: '))\n",
        "cm = mt * 100\n",
        "print('A quantidade de',mt,'equivale a:',cm,'cm')"
      ],
      "metadata": {
        "colab": {
          "base_uri": "https://localhost:8080/"
        },
        "id": "NwqwZojcwJAD",
        "outputId": "4fc032f6-5fbd-4d41-a486-01f437a03d39"
      },
      "execution_count": 12,
      "outputs": [
        {
          "output_type": "stream",
          "name": "stdout",
          "text": [
            "Informe a quantidade de metros: 15\n",
            "A quantidade de 15.0 equivale a: 1500.0 cm\n"
          ]
        }
      ]
    },
    {
      "cell_type": "markdown",
      "source": [
        "Faça um Programa que peça o raio de um círculo, calcule e mostre sua área."
      ],
      "metadata": {
        "id": "x32radMYwFvB"
      }
    },
    {
      "cell_type": "code",
      "source": [],
      "metadata": {
        "id": "QJIFudX5wMTR"
      },
      "execution_count": null,
      "outputs": []
    },
    {
      "cell_type": "markdown",
      "source": [
        "Faça um Programa que calcule a área de um quadrado, em seguida mostre o dobro desta área para o usuário."
      ],
      "metadata": {
        "id": "9MFW8vI1wFzb"
      }
    },
    {
      "cell_type": "code",
      "source": [],
      "metadata": {
        "id": "5N1VraDBwHfs"
      },
      "execution_count": null,
      "outputs": []
    },
    {
      "cell_type": "markdown",
      "source": [
        "Faça um Programa que pergunte quanto você ganha por hora e o número de horas trabalhadas no mês. Calcule e mostre o total do seu salário no referido mês."
      ],
      "metadata": {
        "id": "-9VyDYvRwQco"
      }
    },
    {
      "cell_type": "markdown",
      "source": [
        "Faça um Programa que peça a temperatura em graus Fahrenheit, transforme e mostre a temperatura em graus Celsius.\n",
        "C = 5 * ((F-32) / 9)."
      ],
      "metadata": {
        "id": "wPGAYS_jwQw9"
      }
    },
    {
      "cell_type": "markdown",
      "source": [
        "Faça um Programa que peça a temperatura em graus Celsius, transforme e mostre em graus Fahrenheit."
      ],
      "metadata": {
        "id": "pSTNd-u4wQ7J"
      }
    },
    {
      "cell_type": "markdown",
      "source": [
        "Faça um Programa que peça 2 números inteiros e um número real. Calcule e mostre:\n",
        "* o produto do dobro do primeiro com metade do segundo .\n",
        "* a soma do triplo do primeiro com o terceiro.\n",
        "* o terceiro elevado ao cubo."
      ],
      "metadata": {
        "id": "9rFjjNIiwRDn"
      }
    },
    {
      "cell_type": "markdown",
      "source": [
        "Tendo como dados de entrada a altura de uma pessoa, construa um algoritmo que calcule seu peso ideal, usando a seguinte fórmula: (72.7*altura) - 58"
      ],
      "metadata": {
        "id": "pgyzoFEjwRNV"
      }
    },
    {
      "cell_type": "code",
      "source": [
        "altura = float(input('Informe a sua altura: '))\n",
        "peso = (72.7*altura) - 58\n",
        "print('O peso ideal para a altura:',altura,'cm é: ',peso,'kg')"
      ],
      "metadata": {
        "colab": {
          "base_uri": "https://localhost:8080/"
        },
        "id": "4R_W9zkIMlEJ",
        "outputId": "49d00f4d-044c-4c2e-ca16-7e60d8b1caf2"
      },
      "execution_count": 14,
      "outputs": [
        {
          "output_type": "stream",
          "name": "stdout",
          "text": [
            "Informe a sua altura: 1.86\n",
            "O peso ideal para a altura: 1.86 cm é:  77.22200000000001 kg\n"
          ]
        }
      ]
    },
    {
      "cell_type": "markdown",
      "source": [
        "Tendo como dado de entrada a altura (h) de uma pessoa, construa um algoritmo que calcule seu peso ideal, utilizando as seguintes fórmulas:\n",
        "Para homens: (72.7*h) - 58\n",
        "Para mulheres: (62.1*h) - 44.7"
      ],
      "metadata": {
        "id": "HEW_eEGAwReF"
      }
    },
    {
      "cell_type": "code",
      "source": [
        "nome = str.capitalize(input('Informe o seu nome: '))\n",
        "sexo = str.casefold(input('Informe o seu sexo sendo F - Feminino ou M - Masculino: '))\n",
        "altura = float(input('Informe a sua altura: '))\n",
        "\n",
        "if sexo=='m':\n",
        "  peso = (72.7*altura) - 58\n",
        "  print(nome,'o seu peso ideal é:',peso,'kg')\n",
        "elif sexo=='f':\n",
        "  peso = (62.1*altura) - 44.7\n",
        "  print(nome,'o seu peso ideal é:',peso,'kg')\n",
        "else:\n",
        "  print('Sexo inválido')"
      ],
      "metadata": {
        "colab": {
          "base_uri": "https://localhost:8080/"
        },
        "id": "O-mn2FVXNLEq",
        "outputId": "543c82e1-ca15-4e43-d9c9-03df591196f7"
      },
      "execution_count": 19,
      "outputs": [
        {
          "output_type": "stream",
          "name": "stdout",
          "text": [
            "Informe o seu nome: thainara\n",
            "Informe o seu sexo sendo F - Feminino ou M - Masculino: f\n",
            "Informe a sua altura: 1.70\n",
            "Thainara o seu peso ideal é: 60.86999999999999 kg\n"
          ]
        }
      ]
    },
    {
      "cell_type": "markdown",
      "source": [
        "João Papo-de-Pescador, homem de bem, comprou um microcomputador para controlar o rendimento diário de seu trabalho. Toda vez que ele traz um peso de peixes maior que o estabelecido pelo regulamento de pesca do estado de São Paulo (50 quilos) deve pagar uma multa de R$ 4,00 por quilo excedente. João precisa que você faça um programa que leia a variável peso (peso de peixes) e calcule o excesso. Gravar na variável excesso a quantidade de quilos além do limite e na variável multa o valor da multa que João deverá pagar. Imprima os dados do programa com as mensagens adequadas."
      ],
      "metadata": {
        "id": "DwTBB0vRw_Q2"
      }
    },
    {
      "cell_type": "markdown",
      "source": [
        "Faça um Programa que pergunte quanto você ganha por hora e o número de horas trabalhadas no mês. Calcule e mostre o total do seu salário no referido mês, sabendo-se que são descontados 11% para o Imposto de Renda, 8% para o INSS e 5% para o sindicato, faça um programa que nos dê:\n",
        "\n",
        "1. salário bruto.\n",
        "2. quanto pagou ao INSS.\n",
        "3. quanto pagou ao sindicato.\n",
        "4. o salário líquido.\n",
        "5. calcule os descontos e o salário líquido, conforme a tabela abaix\n",
        "\n",
        "Obs.: Salário Bruto - Descontos = Salário Líquido."
      ],
      "metadata": {
        "id": "vscJpVRAw_YY"
      }
    },
    {
      "cell_type": "markdown",
      "source": [
        "Faça um programa para uma loja de tintas. O programa deverá pedir o tamanho em metros quadrados da área a ser pintada. Considere que a cobertura da tinta é de 1 litro para cada 3 metros quadrados e que a tinta é vendida em latas de 18 litros, que custam R$ 80,00. Informe ao usuário a quantidades de latas de tinta a serem compradas e o preço total."
      ],
      "metadata": {
        "id": "ZRUmn2pVxflt"
      }
    },
    {
      "cell_type": "markdown",
      "source": [
        "Faça um Programa para uma loja de tintas. O programa deverá pedir o tamanho em metros quadrados da área a ser pintada. Considere que a cobertura da tinta é de 1 litro para cada 6 metros quadrados e que a tinta é vendida em latas de 18 litros, que custam `R$ 80,00` ou em galões de 3,6 litros, que custam R$ 25,00.\n",
        "1. Informe ao usuário as quantidades de tinta a serem compradas e os respectivos preços em 3 situações:\n",
        "2. comprar apenas latas de 18 litros;\n",
        "3. comprar apenas galões de 3,6 litros;\n",
        "4. misturar latas e galões, de forma que o desperdício de tinta seja menor. Acrescente 10% de folga e sempre arredonde os valores para cima, isto é, considere latas cheias."
      ],
      "metadata": {
        "id": "5TJWrKDexgkY"
      }
    },
    {
      "cell_type": "markdown",
      "source": [
        "Faça um programa que peça o tamanho de um arquivo para download (em MB) e a velocidade de um link de Internet (em Mbps), calcule e informe o tempo aproximado de download do arquivo usando este link (em minutos)."
      ],
      "metadata": {
        "id": "ZWO0gRklx6Ze"
      }
    }
  ]
}