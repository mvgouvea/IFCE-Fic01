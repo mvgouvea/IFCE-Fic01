{
  "nbformat": 4,
  "nbformat_minor": 0,
  "metadata": {
    "colab": {
      "provenance": [],
      "authorship_tag": "ABX9TyNxwch6kcIIrxwJIKvxHTFz",
      "include_colab_link": true
    },
    "kernelspec": {
      "name": "python3",
      "display_name": "Python 3"
    },
    "language_info": {
      "name": "python"
    }
  },
  "cells": [
    {
      "cell_type": "markdown",
      "metadata": {
        "id": "view-in-github",
        "colab_type": "text"
      },
      "source": [
        "<a href=\"https://colab.research.google.com/github/mvgouvea/IFCE-Fic01/blob/main/Exerc%C3%ADcio02.ipynb\" target=\"_parent\"><img src=\"https://colab.research.google.com/assets/colab-badge.svg\" alt=\"Open In Colab\"/></a>"
      ]
    },
    {
      "cell_type": "markdown",
      "source": [
        "Faça um Programa que peça um valor e mostre na tela se o valor é positivo ou negativo."
      ],
      "metadata": {
        "id": "i1Vos6B7aWl4"
      }
    },
    {
      "cell_type": "code",
      "execution_count": 24,
      "metadata": {
        "colab": {
          "base_uri": "https://localhost:8080/"
        },
        "id": "7niDE-_yaRn9",
        "outputId": "909abedb-21e1-44b8-ab1a-78c5e0517ed1"
      },
      "outputs": [
        {
          "output_type": "stream",
          "name": "stdout",
          "text": [
            "Informe um valor:-15\n",
            "Valor negativo -15.0\n"
          ]
        }
      ],
      "source": [
        "num = float(input('Informe um valor:'))\n",
        "if(num < 0):\n",
        "    print('Valor negativo',num)\n",
        "elif(num == 0):\n",
        "  print('Valor nulo', num)\n",
        "else:\n",
        "    print('Valor positivo')\n",
        "\n"
      ]
    },
    {
      "cell_type": "markdown",
      "source": [
        "Faça um programa para a leitura de duas notas parciais de um aluno. O programa deve calcular a média alcançada por aluno e apresentar: A mensagem \"Aprovado\", se a média alcançada for maior ou igual a sete; A mensagem \"Reprovado\", se a média for menor do que sete; A mensagem \"Aprovado com Distinção\", se a média for igual a dez."
      ],
      "metadata": {
        "id": "CoAqnvoXabJj"
      }
    },
    {
      "cell_type": "code",
      "source": [
        "nota1 = float(input('Infomre a primeira nota: '))\n",
        "nota2 = float(input('Infomre a primeira nota: '))\n",
        "\n",
        "media = (nota1 + nota2)/2\n",
        "\n",
        "if (media == 10):\n",
        "  print('Aprovado com Distinção, sua nota é: ',media)\n",
        "elif (media >= 7 and media < 10):\n",
        "  print('Aprovado, sua nota é: ',media)\n",
        "else:\n",
        "    print('Reprovado, sua nota é: ',media)\n"
      ],
      "metadata": {
        "colab": {
          "base_uri": "https://localhost:8080/"
        },
        "id": "uvVqshpnaddS",
        "outputId": "f3eae131-7a66-4f77-e133-24a9ef59c646"
      },
      "execution_count": 34,
      "outputs": [
        {
          "output_type": "stream",
          "name": "stdout",
          "text": [
            "Infomre a primeira nota: 7\n",
            "Infomre a primeira nota: 7\n",
            "Aprovado, sua nota é:  7.0\n"
          ]
        }
      ]
    },
    {
      "cell_type": "markdown",
      "source": [
        "Faça um programa que pergunte o preço de três produtos e informe qual produto você deve comprar, sabendo que a decisão é sempre pelo mais barato."
      ],
      "metadata": {
        "id": "nsSMak6SaeBJ"
      }
    },
    {
      "cell_type": "code",
      "source": [
        "num1 = float(input('Informe o primeiro o preço do produto: '))\n",
        "num2 = float(input('Informe o segundo o preço do produto: '))\n",
        "num3 = float(input('Informe o terceiro o preço do produto: '))\n",
        "\n",
        "if( num1 < num2 and num1 < num3):\n",
        "  print('O primeiro valor é o mais barato: R$',num1)\n",
        "elif( num2 < num1 and num2 < num3):\n",
        "  print('O segundo valor é o mais barato: R$',num2)\n",
        "elif( num3 < num1 and num3 < num2):\n",
        "  print('O terceiro valor é o mais barato: R$',num3)\n",
        "elif num1 == num2 and num1 < num3:\n",
        "  print('O preço mais baixo é: R$',num1)\n",
        "else:\n",
        "  print('O preço mais baixo é: R$',num3)\n"
      ],
      "metadata": {
        "colab": {
          "base_uri": "https://localhost:8080/"
        },
        "id": "wQ_j8ByaaehX",
        "outputId": "3ba8bdba-b72d-4a6a-a775-32b0c084bf14"
      },
      "execution_count": 41,
      "outputs": [
        {
          "output_type": "stream",
          "name": "stdout",
          "text": [
            "Informe o primeiro o preço do produto: 5\n",
            "Informe o segundo o preço do produto: 10\n",
            "Informe o terceiro o preço do produto: 5\n",
            "O preço mais baixo é: R$ 5.0\n"
          ]
        }
      ]
    },
    {
      "cell_type": "markdown",
      "source": [
        "Faça um Programa que pergunte em que turno você estuda. Peça para digitar M - matutino ou V -Vespertino ou N- Noturno. Imprima a mensagem \"Bom Dia!\", \"Boa Tarde!\" ou \"Boa Noite!\" ou \"Valor Inválido!\", conforme o caso."
      ],
      "metadata": {
        "id": "9t0JQQ5Lae7V"
      }
    },
    {
      "cell_type": "code",
      "source": [
        "\n",
        "turno = str.casefold(input('Informe o seu turno: M - matutino ou V - Vespertino ou N - Noturno '))\n",
        "if turno == 'm' :\n",
        "  print('Bom dia')\n",
        "elif turno == 'v':\n",
        "  print('Boa tarde')\n",
        "elif turno == 'n':\n",
        "  print('Boa noite')\n",
        "else:\n",
        "  print('Inválido')"
      ],
      "metadata": {
        "colab": {
          "base_uri": "https://localhost:8080/"
        },
        "id": "W6vktnMFajrd",
        "outputId": "c1b85c94-b06d-4fc3-90ff-63b61d2774c0"
      },
      "execution_count": 70,
      "outputs": [
        {
          "output_type": "stream",
          "name": "stdout",
          "text": [
            "Informe o seu turno: M - matutino ou V - Vespertino ou N - Noturno 5\n",
            "Inválido\n"
          ]
        }
      ]
    }
  ]
}