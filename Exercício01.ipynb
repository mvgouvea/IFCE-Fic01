{
  "nbformat": 4,
  "nbformat_minor": 0,
  "metadata": {
    "colab": {
      "provenance": [],
      "authorship_tag": "ABX9TyO9mVD7U+odoTFzmxSTgfhi",
      "include_colab_link": true
    },
    "kernelspec": {
      "name": "python3",
      "display_name": "Python 3"
    },
    "language_info": {
      "name": "python"
    }
  },
  "cells": [
    {
      "cell_type": "markdown",
      "metadata": {
        "id": "view-in-github",
        "colab_type": "text"
      },
      "source": [
        "<a href=\"https://colab.research.google.com/github/mvgouvea/IFCE-Fic01/blob/main/Exerc%C3%ADcio01.ipynb\" target=\"_parent\"><img src=\"https://colab.research.google.com/assets/colab-badge.svg\" alt=\"Open In Colab\"/></a>"
      ]
    },
    {
      "cell_type": "markdown",
      "source": [
        "\n",
        "Professora: Janaide Nogueira de Sousa Ximenes"
      ],
      "metadata": {
        "id": "V_G9IlExY5ZF"
      }
    },
    {
      "cell_type": "markdown",
      "source": [
        "Faça um programa que peça um número e então mostre a mensagem: O número informado foi [número]."
      ],
      "metadata": {
        "id": "NO-_CgXlKefS"
      }
    },
    {
      "cell_type": "code",
      "execution_count": 3,
      "metadata": {
        "colab": {
          "base_uri": "https://localhost:8080/"
        },
        "id": "S4bUC1COKQlp",
        "outputId": "c7ae9151-6365-46b5-ec03-6e6851084643"
      },
      "outputs": [
        {
          "output_type": "stream",
          "name": "stdout",
          "text": [
            "Informe um número: 10\n",
            "O número informado é:  10.0\n"
          ]
        }
      ],
      "source": [
        "num = float(input('Informe um número: '))\n",
        "print('O número informado é: ',num)"
      ]
    },
    {
      "cell_type": "markdown",
      "source": [
        "Faça um programa que converta metros para centímetros."
      ],
      "metadata": {
        "id": "7OAn1E-lKl5I"
      }
    },
    {
      "cell_type": "code",
      "source": [
        "metros = float(input('Informe a quantidade de metros: '))\n",
        "cent = metros*100\n",
        "print('A conversão de ',metros,'mt são', cent,'cm')"
      ],
      "metadata": {
        "colab": {
          "base_uri": "https://localhost:8080/"
        },
        "id": "c5xAqUiNKmnX",
        "outputId": "1d35eefd-eec2-49d6-eadf-47c1c39d5d05"
      },
      "execution_count": 7,
      "outputs": [
        {
          "output_type": "stream",
          "name": "stdout",
          "text": [
            "Informe a quantidade de metros: 15.3\n",
            "A conversão de  15.3 mt são 1530.0 cm\n"
          ]
        }
      ]
    },
    {
      "cell_type": "markdown",
      "source": [
        "Faça um Programa que pergunte quanto você ganha por hora e o número de horas trabalhadas no mês. Calcule e mostre o total do seu salário no referido mês."
      ],
      "metadata": {
        "id": "8XKifhr1Km5k"
      }
    },
    {
      "cell_type": "code",
      "source": [
        "hora = int(input('Informe a quantidade de horas trabalhadas por semana: '))\n",
        "valor = float(input('Infome o valor da hora trabalhada: '))\n",
        "salario = (hora * 4) * valor\n",
        "print('O seu sálario é:',salario)"
      ],
      "metadata": {
        "colab": {
          "base_uri": "https://localhost:8080/"
        },
        "id": "Jlq1msn4KnIS",
        "outputId": "668b2e0c-f95c-40cb-9d0a-853ab282c0f5"
      },
      "execution_count": 15,
      "outputs": [
        {
          "output_type": "stream",
          "name": "stdout",
          "text": [
            "Informe a quantidade de horas trabalhadas por semana: 40\n",
            "Infome o valor da hora trabalhada: 31\n",
            "O seu sálario é: 4960.0\n"
          ]
        }
      ]
    },
    {
      "cell_type": "markdown",
      "source": [
        "Tendo como dados de entrada a altura de uma pessoa, construa um algoritmo que calcule seu peso ideal, usando a seguinte fórmula: (72.7*altura) - 58"
      ],
      "metadata": {
        "id": "VshLc112KnUg"
      }
    },
    {
      "cell_type": "code",
      "source": [
        "altura = float(input('Informe sua altura: '))\n",
        "peso = (72.7*altura) - 58\n",
        "print('O seu peso ideal é:',peso,'kg')"
      ],
      "metadata": {
        "colab": {
          "base_uri": "https://localhost:8080/"
        },
        "id": "RtpZ9tzWKn9y",
        "outputId": "67572725-6425-46c5-e5a1-56a52313d81b"
      },
      "execution_count": 17,
      "outputs": [
        {
          "output_type": "stream",
          "name": "stdout",
          "text": [
            "Informe sua altura: 1.86\n",
            "O seu peso ideal é: 77.22200000000001 kg\n"
          ]
        }
      ]
    }
  ]
}