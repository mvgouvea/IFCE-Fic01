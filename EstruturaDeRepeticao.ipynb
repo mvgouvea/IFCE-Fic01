{
  "nbformat": 4,
  "nbformat_minor": 0,
  "metadata": {
    "colab": {
      "provenance": [],
      "toc_visible": true,
      "authorship_tag": "ABX9TyPbezEOAD1PnCR16cztpDmb"
    },
    "kernelspec": {
      "name": "python3",
      "display_name": "Python 3"
    },
    "language_info": {
      "name": "python"
    }
  },
  "cells": [
    {
      "cell_type": "markdown",
      "source": [
        "#Estrutura de Repetição\n",
        "[Lista completa](https://wiki.python.org.br/EstruturaDeRepeticao)"
      ],
      "metadata": {
        "id": "O14Ydw89riqS"
      }
    },
    {
      "cell_type": "markdown",
      "source": [
        "Faça um programa que peça uma nota, entre zero e dez. Mostre uma mensagem caso o valor seja inválido e continue pedindo até que o usuário informe um valor válido."
      ],
      "metadata": {
        "id": "u2bSHBGC1Jjr"
      }
    },
    {
      "cell_type": "code",
      "execution_count": null,
      "metadata": {
        "id": "6amOolhc1IWL"
      },
      "outputs": [],
      "source": [
        "nota = int(input('Informe uma número entre 0 a 10: '))\n",
        "while nota > 10 or nota < 0:\n",
        "  nota = int(input('\"Nota Inválida\" Informe uma número entre 0 a 10: '))\n",
        "else:\n",
        "  print('A nota é:',nota)"
      ]
    },
    {
      "cell_type": "markdown",
      "source": [
        "Faça um programa que leia um nome de usuário e a sua senha e não aceite a senha igual ao nome do usuário, mostrando uma mensagem de erro e voltando a pedir as informações."
      ],
      "metadata": {
        "id": "hWz966aM1Juo"
      }
    },
    {
      "cell_type": "code",
      "source": [
        "nome = str.casefold(input('Informe o nome do usuario: '))\n",
        "senha = input('Informe a senha: ')\n",
        "\n",
        "while nome == senha:\n",
        "  print('\"ERRO.\" A senha é a mesma que o usuário')\n",
        "  senha = input('Informe a senha: ')\n",
        "else:\n",
        "  print('O nome do usuário:',nome)\n",
        "  print('A senha é:',senha)"
      ],
      "metadata": {
        "id": "HtDfSTJu3n2K"
      },
      "execution_count": null,
      "outputs": []
    },
    {
      "cell_type": "markdown",
      "source": [
        "Faça um programa que leia e valide as seguintes informações:\n",
        "1. Nome: maior que 3 caracteres;\n",
        "2. Idade: entre 0 e 150;\n",
        "3. Salário: maior que zero;\n",
        "4. Sexo: 'f' ou 'm';\n",
        "5. Estado Civil: 's', 'c', 'v', 'd';"
      ],
      "metadata": {
        "id": "edMFZ6Le1J4M"
      }
    },
    {
      "cell_type": "code",
      "source": [
        "nome = str.capitalize(input('Informe o nome: '))\n",
        "while len(nome) < 3:\n",
        "  nome = str.capitalize(input('\"Nome Inválido.\" Informe o nome: '))\n",
        "\n",
        "idade = int(input('Informe a sua idade: '))\n",
        "while idade < 0 or idade > 150:\n",
        "  idade = int(input('\"Idade Inválido.\" Informe a sua idade: '))\n",
        "\n",
        "salario = float(input('Informe o salário: '))\n",
        "while salario <= 0:\n",
        "  salario = float(input('\"Salário Inválido.\" Informe o salário: '))\n",
        "\n",
        "estadoCivil = str.casefold(input('Informe o estado civil sendo: S - Solteiro; C - Casado; V - Viuvo; D - Divorciado : '))\n",
        "while estadoCivil != 's' and estadoCivil != 'c' and estadoCivil != 'v' and estadoCivil != 'd':\n",
        "  print(\"Dado inválido!\")\n",
        "  estadoCivil = str.casefold(input('Informe o estado civil sendo: S - Solteiro; C - Casado; V - Viuvo; D - Divorciado : '))\n",
        "\n",
        "sexo = str.casefold(input('Informe o sexo: F - Feminino; M - Masculino : '))\n",
        "while sexo != 'f' and sexo != 'm':\n",
        "  print(\"Dado inválido!\")\n",
        "  sexo = str.casefold(input('Informe o sexo: F - Feminino; M - Masculino : '))\n",
        "\n",
        "if sexo == 'f':\n",
        "  sexo = 'Feminino'\n",
        "else:\n",
        "  sexo = 'Masculino'\n",
        "\n",
        "if estadoCivil == 's':\n",
        "  estadoCivil = 'Solteiro'\n",
        "elif estadoCivil == 'c':\n",
        "  estadoCivil = 'Casado'\n",
        "elif estadoCivil == 'v':\n",
        "  estadoCivil = 'Viuvo'\n",
        "else:\n",
        "  estadoCivil = 'Divorciado'\n",
        "\n",
        "print('Nome:', nome)\n",
        "print('Idade:',idade)\n",
        "print('Salário:',salario)\n",
        "print('Sexo:',sexo)\n",
        "print('Estado civil:', estadoCivil)"
      ],
      "metadata": {
        "id": "9jW0Zndc3q2C"
      },
      "execution_count": null,
      "outputs": []
    },
    {
      "cell_type": "markdown",
      "source": [
        "Supondo que a população de um país A seja da ordem de 80000 habitantes com uma taxa anual de crescimento de 3% e que a população de B seja 200000 habitantes com uma taxa de crescimento de 1.5%. Faça um programa que calcule e escreva o número de anos necessários para que a população do país A ultrapasse ou iguale a população do país B, mantidas as taxas de crescimento."
      ],
      "metadata": {
        "id": "AjK9e9_91KCY"
      }
    },
    {
      "cell_type": "code",
      "source": [
        "popA = 80000\n",
        "popB = 200000\n",
        "ano = 0\n",
        "while popB > popA:\n",
        "  popA = popA * 1.03\n",
        "  popB = popB * 1.015\n",
        "  #print('População A:',popA)\n",
        "  #print('População B:',popB)\n",
        "  ano = ano + 1\n",
        "\n",
        "print('População A leva cerca de',ano,'anos para ultrapassar B')\n",
        "print('População A:',popA)\n",
        "print('População B:',popB)"
      ],
      "metadata": {
        "id": "EaTZyDjR3o5k",
        "colab": {
          "base_uri": "https://localhost:8080/"
        },
        "outputId": "5056e741-0331-4dc2-8bee-51ec51b286ef"
      },
      "execution_count": 48,
      "outputs": [
        {
          "output_type": "stream",
          "name": "stdout",
          "text": [
            "População A leva cerca de 63 anos para ultrapassar B\n",
            "População A: 515033.1028059676\n",
            "População B: 510964.4169622198\n"
          ]
        }
      ]
    }
  ]
}