{
  "nbformat": 4,
  "nbformat_minor": 0,
  "metadata": {
    "colab": {
      "provenance": [],
      "authorship_tag": "ABX9TyO+e5HPN50yKBue/vWqpD1J",
      "include_colab_link": true
    },
    "kernelspec": {
      "name": "python3",
      "display_name": "Python 3"
    },
    "language_info": {
      "name": "python"
    }
  },
  "cells": [
    {
      "cell_type": "markdown",
      "metadata": {
        "id": "view-in-github",
        "colab_type": "text"
      },
      "source": [
        "<a href=\"https://colab.research.google.com/github/mvgouvea/IFCE-Fic01/blob/main/EstruturaDeRepeticao.ipynb\" target=\"_parent\"><img src=\"https://colab.research.google.com/assets/colab-badge.svg\" alt=\"Open In Colab\"/></a>"
      ]
    },
    {
      "cell_type": "markdown",
      "source": [
        "Faça um programa que peça uma nota, entre zero e dez. Mostre uma mensagem caso o valor seja inválido e continue pedindo até que o usuário informe um valor válido."
      ],
      "metadata": {
        "id": "u2bSHBGC1Jjr"
      }
    },
    {
      "cell_type": "code",
      "execution_count": null,
      "metadata": {
        "id": "6amOolhc1IWL"
      },
      "outputs": [],
      "source": []
    },
    {
      "cell_type": "markdown",
      "source": [
        "Faça um programa que leia um nome de usuário e a sua senha e não aceite a senha igual ao nome do usuário, mostrando uma mensagem de erro e voltando a pedir as informações."
      ],
      "metadata": {
        "id": "hWz966aM1Juo"
      }
    },
    {
      "cell_type": "code",
      "source": [],
      "metadata": {
        "id": "HtDfSTJu3n2K"
      },
      "execution_count": null,
      "outputs": []
    },
    {
      "cell_type": "markdown",
      "source": [
        "Faça um programa que leia e valide as seguintes informações:\n",
        "1. Nome: maior que 3 caracteres;\n",
        "2. Idade: entre 0 e 150;\n",
        "3. Salário: maior que zero;\n",
        "4. Sexo: 'f' ou 'm';\n",
        "5. Estado Civil: 's', 'c', 'v', 'd';"
      ],
      "metadata": {
        "id": "edMFZ6Le1J4M"
      }
    },
    {
      "cell_type": "code",
      "source": [],
      "metadata": {
        "id": "9jW0Zndc3q2C"
      },
      "execution_count": null,
      "outputs": []
    },
    {
      "cell_type": "markdown",
      "source": [
        "Supondo que a população de um país A seja da ordem de 80000 habitantes com uma taxa anual de crescimento de 3% e que a população de B seja 200000 habitantes com uma taxa de crescimento de 1.5%. Faça um programa que calcule e escreva o número de anos necessários para que a população do país A ultrapasse ou iguale a população do país B, mantidas as taxas de crescimento."
      ],
      "metadata": {
        "id": "AjK9e9_91KCY"
      }
    },
    {
      "cell_type": "code",
      "source": [],
      "metadata": {
        "id": "EaTZyDjR3o5k"
      },
      "execution_count": null,
      "outputs": []
    }
  ]
}